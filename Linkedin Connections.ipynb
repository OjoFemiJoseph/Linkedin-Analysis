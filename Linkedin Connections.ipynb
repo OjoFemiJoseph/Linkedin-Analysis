{
 "cells": [
  {
   "cell_type": "markdown",
   "id": "6b70594c",
   "metadata": {},
   "source": [
    "#### Insights\n",
    "\n",
    "1) I have 717 Total Connections <br>\n",
    "\n",
    "2) The date with the highest connection is '2021-02 (Feb)-28' with 24 connections <br>\n",
    "\n",
    "3) The Month with the highest connection is '8(Aug)\t2021' with 74 connections <br>\n",
    "\n",
    "4) The year with the highest connection is 2021 with 279 connections  <br>\n",
    "\n",
    "5) My first linkedin connection (Nitin) was made on '2019-07 (Sept)-17' (I also conncted with Pascal (2nd linkedin connection same day)<br>\n",
    "\n",
    "6) I have more connections(9) working at Ennovate Lab   <br>\n",
    "\n",
    "7) I have more connections (27) with the job title Software Engineer    <br>\n",
    ".  <br>\n",
    ".  <br>\n",
    ".  <br>\n"
   ]
  },
  {
   "cell_type": "code",
   "execution_count": 1,
   "id": "de380b46",
   "metadata": {},
   "outputs": [],
   "source": [
    "import pandas as pd\n",
    "import seaborn as sns\n",
    "import calendar\n",
    "import plotly.express as px\n",
    "import warnings \n",
    "warnings.filterwarnings(\"ignore\") "
   ]
  },
  {
   "attachments": {
    "Capture.PNG": {
     "image/png": "[encoded data removed]"
    }
   },
   "cell_type": "markdown",
   "id": "53c1428a",
   "metadata": {},
   "source": [
    "![Capture.PNG](attachment:Capture.PNG)"
   ]
  },
  {
   "cell_type": "code",
   "execution_count": 2,
   "id": "a3cef333",
   "metadata": {},
   "outputs": [],
   "source": [
    "#the csv file has a note at the top of the file, the data starts from line 2\n",
    "df = pd.read_csv('Connections.csv',header=2)"
   ]
  },
  {
   "cell_type": "code",
   "execution_count": 3,
   "id": "5181bdeb",
   "metadata": {},
   "outputs": [],
   "source": [
    "#remove email address , the names were not removed at this point intentionally\n",
    "df = df.drop(['Email Address'],axis=1)"
   ]
  },
  {
   "cell_type": "code",
   "execution_count": 4,
   "id": "76448221",
   "metadata": {},
   "outputs": [
    {
     "data": {
      "text/html": [
       "<div>\n",
       "<style scoped>\n",
       "    .dataframe tbody tr th:only-of-type {\n",
       "        vertical-align: middle;\n",
       "    }\n",
       "\n",
       "    .dataframe tbody tr th {\n",
       "        vertical-align: top;\n",
       "    }\n",
       "\n",
       "    .dataframe thead th {\n",
       "        text-align: right;\n",
       "    }\n",
       "</style>\n",
       "<table border=\"1\" class=\"dataframe\">\n",
       "  <thead>\n",
       "    <tr style=\"text-align: right;\">\n",
       "      <th></th>\n",
       "      <th>First Name</th>\n",
       "      <th>Last Name</th>\n",
       "      <th>Company</th>\n",
       "      <th>Position</th>\n",
       "      <th>Connected On</th>\n",
       "    </tr>\n",
       "  </thead>\n",
       "  <tbody>\n",
       "    <tr>\n",
       "      <th>0</th>\n",
       "      <td>Isaiah</td>\n",
       "      <td>Omenokpe</td>\n",
       "      <td>University of Benin Teaching Hospital(UBTH)</td>\n",
       "      <td>Data Analyst</td>\n",
       "      <td>2022-04-11</td>\n",
       "    </tr>\n",
       "    <tr>\n",
       "      <th>1</th>\n",
       "      <td>Steve</td>\n",
       "      <td>Ajudua</td>\n",
       "      <td>African Alliance Insurance</td>\n",
       "      <td>GM/Lead, Business Development</td>\n",
       "      <td>2022-04-11</td>\n",
       "    </tr>\n",
       "    <tr>\n",
       "      <th>2</th>\n",
       "      <td>Temitope</td>\n",
       "      <td>Ogunbolu, MBA PMP</td>\n",
       "      <td>Chevron</td>\n",
       "      <td>Lead Data Engineer</td>\n",
       "      <td>2022-04-08</td>\n",
       "    </tr>\n",
       "    <tr>\n",
       "      <th>3</th>\n",
       "      <td>Nicolas</td>\n",
       "      <td>Braga</td>\n",
       "      <td>Dadosfera (anteriormente DataSprints)</td>\n",
       "      <td>Data Engineer</td>\n",
       "      <td>2022-04-06</td>\n",
       "    </tr>\n",
       "    <tr>\n",
       "      <th>4</th>\n",
       "      <td>Toyin</td>\n",
       "      <td>Olape</td>\n",
       "      <td>Wragby Business Solutions &amp; Technologies Limited</td>\n",
       "      <td>Data Science Lead</td>\n",
       "      <td>2022-04-06</td>\n",
       "    </tr>\n",
       "  </tbody>\n",
       "</table>\n",
       "</div>"
      ],
      "text/plain": [
       "  First Name          Last Name  \\\n",
       "0     Isaiah           Omenokpe   \n",
       "1      Steve             Ajudua   \n",
       "2   Temitope  Ogunbolu, MBA PMP   \n",
       "3    Nicolas              Braga   \n",
       "4      Toyin              Olape   \n",
       "\n",
       "                                            Company  \\\n",
       "0       University of Benin Teaching Hospital(UBTH)   \n",
       "1                        African Alliance Insurance   \n",
       "2                                           Chevron   \n",
       "3             Dadosfera (anteriormente DataSprints)   \n",
       "4  Wragby Business Solutions & Technologies Limited   \n",
       "\n",
       "                        Position Connected On  \n",
       "0                   Data Analyst   2022-04-11  \n",
       "1  GM/Lead, Business Development   2022-04-11  \n",
       "2             Lead Data Engineer   2022-04-08  \n",
       "3                  Data Engineer   2022-04-06  \n",
       "4              Data Science Lead   2022-04-06  "
      ]
     },
     "execution_count": 4,
     "metadata": {},
     "output_type": "execute_result"
    }
   ],
   "source": [
    "#convert connected on column to datetime\n",
    "df['Connected On'] = pd.to_datetime(df['Connected On'])\n",
    "\n",
    "df.head()"
   ]
  },
  {
   "cell_type": "code",
   "execution_count": 5,
   "id": "96952674",
   "metadata": {},
   "outputs": [
    {
     "data": {
      "text/html": [
       "<div>\n",
       "<style scoped>\n",
       "    .dataframe tbody tr th:only-of-type {\n",
       "        vertical-align: middle;\n",
       "    }\n",
       "\n",
       "    .dataframe tbody tr th {\n",
       "        vertical-align: top;\n",
       "    }\n",
       "\n",
       "    .dataframe thead th {\n",
       "        text-align: right;\n",
       "    }\n",
       "</style>\n",
       "<table border=\"1\" class=\"dataframe\">\n",
       "  <thead>\n",
       "    <tr style=\"text-align: right;\">\n",
       "      <th></th>\n",
       "      <th>First Name</th>\n",
       "      <th>Last Name</th>\n",
       "      <th>Company</th>\n",
       "      <th>Position</th>\n",
       "      <th>Connected On</th>\n",
       "    </tr>\n",
       "  </thead>\n",
       "  <tbody>\n",
       "    <tr>\n",
       "      <th>715</th>\n",
       "      <td>Paschal Chukwuemeka</td>\n",
       "      <td>Amah</td>\n",
       "      <td>Kobo360</td>\n",
       "      <td>Head of Data + Insights</td>\n",
       "      <td>2019-07-17</td>\n",
       "    </tr>\n",
       "    <tr>\n",
       "      <th>716</th>\n",
       "      <td>Nitin</td>\n",
       "      <td>M</td>\n",
       "      <td>Xilytica</td>\n",
       "      <td>Data Science &amp; Machine Learning Trainer</td>\n",
       "      <td>2019-07-17</td>\n",
       "    </tr>\n",
       "  </tbody>\n",
       "</table>\n",
       "</div>"
      ],
      "text/plain": [
       "               First Name Last Name   Company  \\\n",
       "715  Paschal Chukwuemeka       Amah   Kobo360   \n",
       "716                 Nitin         M  Xilytica   \n",
       "\n",
       "                                    Position Connected On  \n",
       "715                  Head of Data + Insights   2019-07-17  \n",
       "716  Data Science & Machine Learning Trainer   2019-07-17  "
      ]
     },
     "execution_count": 5,
     "metadata": {},
     "output_type": "execute_result"
    }
   ],
   "source": [
    "#first connection date and details\n",
    "df[df['Connected On'] ==df['Connected On'].min()]"
   ]
  },
  {
   "cell_type": "code",
   "execution_count": 6,
   "id": "e4ef7f7a",
   "metadata": {},
   "outputs": [
    {
     "data": {
      "text/html": [
       "<div>\n",
       "<style scoped>\n",
       "    .dataframe tbody tr th:only-of-type {\n",
       "        vertical-align: middle;\n",
       "    }\n",
       "\n",
       "    .dataframe tbody tr th {\n",
       "        vertical-align: top;\n",
       "    }\n",
       "\n",
       "    .dataframe thead th {\n",
       "        text-align: right;\n",
       "    }\n",
       "</style>\n",
       "<table border=\"1\" class=\"dataframe\">\n",
       "  <thead>\n",
       "    <tr style=\"text-align: right;\">\n",
       "      <th></th>\n",
       "      <th>First Name</th>\n",
       "      <th>Last Name</th>\n",
       "      <th>Company</th>\n",
       "      <th>Position</th>\n",
       "      <th>Connected On</th>\n",
       "    </tr>\n",
       "  </thead>\n",
       "  <tbody>\n",
       "    <tr>\n",
       "      <th>0</th>\n",
       "      <td>Isaiah</td>\n",
       "      <td>Omenokpe</td>\n",
       "      <td>University of Benin Teaching Hospital(UBTH)</td>\n",
       "      <td>Data Analyst</td>\n",
       "      <td>2022-04-11</td>\n",
       "    </tr>\n",
       "    <tr>\n",
       "      <th>1</th>\n",
       "      <td>Steve</td>\n",
       "      <td>Ajudua</td>\n",
       "      <td>African Alliance Insurance</td>\n",
       "      <td>GM/Lead, Business Development</td>\n",
       "      <td>2022-04-11</td>\n",
       "    </tr>\n",
       "  </tbody>\n",
       "</table>\n",
       "</div>"
      ],
      "text/plain": [
       "  First Name Last Name                                      Company  \\\n",
       "0     Isaiah  Omenokpe  University of Benin Teaching Hospital(UBTH)   \n",
       "1      Steve    Ajudua                   African Alliance Insurance   \n",
       "\n",
       "                        Position Connected On  \n",
       "0                   Data Analyst   2022-04-11  \n",
       "1  GM/Lead, Business Development   2022-04-11  "
      ]
     },
     "execution_count": 6,
     "metadata": {},
     "output_type": "execute_result"
    }
   ],
   "source": [
    "#last connection date and details\n",
    "\n",
    "df[df['Connected On'] ==df['Connected On'].max()]"
   ]
  },
  {
   "cell_type": "code",
   "execution_count": 7,
   "id": "59756297",
   "metadata": {},
   "outputs": [],
   "source": [
    "#drop first name and last name\n",
    "df = df.drop(['First Name','Last Name'],axis=1)"
   ]
  },
  {
   "cell_type": "code",
   "execution_count": 8,
   "id": "54e38cd6",
   "metadata": {},
   "outputs": [],
   "source": [
    "#split date into day, month,year\n",
    "\n",
    "df['day'] = df['Connected On'].dt.day\n",
    "df['month'] = df['Connected On'].dt.month\n",
    "df['year'] = df['Connected On'].dt.year"
   ]
  },
  {
   "cell_type": "code",
   "execution_count": 9,
   "id": "a52a67eb",
   "metadata": {},
   "outputs": [],
   "source": [
    "#drop connected on column\n",
    "df = df.drop('Connected On',axis=1)"
   ]
  },
  {
   "cell_type": "code",
   "execution_count": 10,
   "id": "c22c2c6f",
   "metadata": {},
   "outputs": [
    {
     "data": {
      "text/html": [
       "<div>\n",
       "<style scoped>\n",
       "    .dataframe tbody tr th:only-of-type {\n",
       "        vertical-align: middle;\n",
       "    }\n",
       "\n",
       "    .dataframe tbody tr th {\n",
       "        vertical-align: top;\n",
       "    }\n",
       "\n",
       "    .dataframe thead th {\n",
       "        text-align: right;\n",
       "    }\n",
       "</style>\n",
       "<table border=\"1\" class=\"dataframe\">\n",
       "  <thead>\n",
       "    <tr style=\"text-align: right;\">\n",
       "      <th></th>\n",
       "      <th>day</th>\n",
       "      <th>month</th>\n",
       "      <th>year</th>\n",
       "      <th>count</th>\n",
       "    </tr>\n",
       "  </thead>\n",
       "  <tbody>\n",
       "    <tr>\n",
       "      <th>277</th>\n",
       "      <td>28</td>\n",
       "      <td>2</td>\n",
       "      <td>2021</td>\n",
       "      <td>24</td>\n",
       "    </tr>\n",
       "    <tr>\n",
       "      <th>143</th>\n",
       "      <td>16</td>\n",
       "      <td>8</td>\n",
       "      <td>2021</td>\n",
       "      <td>12</td>\n",
       "    </tr>\n",
       "    <tr>\n",
       "      <th>236</th>\n",
       "      <td>24</td>\n",
       "      <td>8</td>\n",
       "      <td>2021</td>\n",
       "      <td>10</td>\n",
       "    </tr>\n",
       "    <tr>\n",
       "      <th>250</th>\n",
       "      <td>25</td>\n",
       "      <td>8</td>\n",
       "      <td>2021</td>\n",
       "      <td>10</td>\n",
       "    </tr>\n",
       "    <tr>\n",
       "      <th>298</th>\n",
       "      <td>29</td>\n",
       "      <td>9</td>\n",
       "      <td>2021</td>\n",
       "      <td>9</td>\n",
       "    </tr>\n",
       "  </tbody>\n",
       "</table>\n",
       "</div>"
      ],
      "text/plain": [
       "     day  month  year  count\n",
       "277   28      2  2021     24\n",
       "143   16      8  2021     12\n",
       "236   24      8  2021     10\n",
       "250   25      8  2021     10\n",
       "298   29      9  2021      9"
      ]
     },
     "execution_count": 10,
     "metadata": {},
     "output_type": "execute_result"
    }
   ],
   "source": [
    "#Days with the highest connection \n",
    "\n",
    "max_df = df.groupby(['day','month','year'])\n",
    "max_df_count = max_df.size().reset_index(name='count')\n",
    "max_df_count.sort_values(by='count',ascending=False).head()\n",
    "#2nd,3rd,4th days with the highest connection happened in the same month and year"
   ]
  },
  {
   "cell_type": "code",
   "execution_count": 11,
   "id": "0f9c61de",
   "metadata": {},
   "outputs": [
    {
     "data": {
      "text/plain": [
       "Ennovate Lab    9\n",
       "Freelance       8\n",
       "StudentBuild    7\n",
       "Stanbic IBTC    4\n",
       "Tek Experts     4\n",
       "Name: Company, dtype: int64"
      ]
     },
     "execution_count": 11,
     "metadata": {},
     "output_type": "execute_result"
    }
   ],
   "source": [
    "#companies i have more connections from\n",
    "df['Company'].value_counts(dropna=True).head()"
   ]
  },
  {
   "cell_type": "code",
   "execution_count": 12,
   "id": "63fbb57b",
   "metadata": {},
   "outputs": [
    {
     "data": {
      "text/plain": [
       "Software Engineer          24\n",
       "Data Analyst               16\n",
       "Data Scientist             16\n",
       "Data Engineer              13\n",
       "Chief Executive Officer     8\n",
       "Name: Position, dtype: int64"
      ]
     },
     "execution_count": 12,
     "metadata": {},
     "output_type": "execute_result"
    }
   ],
   "source": [
    "#job title of connections\n",
    "df['Position'].value_counts(dropna=True).head()\n"
   ]
  },
  {
   "cell_type": "code",
   "execution_count": 13,
   "id": "e0f1db56",
   "metadata": {},
   "outputs": [
    {
     "data": {
      "text/plain": [
       "717"
      ]
     },
     "execution_count": 13,
     "metadata": {},
     "output_type": "execute_result"
    }
   ],
   "source": [
    "#total connections\n",
    "df.shape[0]"
   ]
  },
  {
   "cell_type": "code",
   "execution_count": 14,
   "id": "c3b05e35",
   "metadata": {},
   "outputs": [
    {
     "data": {
      "text/plain": [
       "2021    279\n",
       "2020    243\n",
       "2019    149\n",
       "2022     46\n",
       "Name: year, dtype: int64"
      ]
     },
     "execution_count": 14,
     "metadata": {},
     "output_type": "execute_result"
    }
   ],
   "source": [
    "#connections per year\n",
    "df['year'].value_counts()"
   ]
  },
  {
   "cell_type": "code",
   "execution_count": 15,
   "id": "5153bddc",
   "metadata": {},
   "outputs": [
    {
     "data": {
      "text/plain": [
       "<AxesSubplot:xlabel='year', ylabel='count'>"
      ]
     },
     "execution_count": 15,
     "metadata": {},
     "output_type": "execute_result"
    },
    {
     "data": {
      "image/png": "[encoded data removed]",
      "text/plain": [
       "<Figure size 432x288 with 1 Axes>"
      ]
     },
     "metadata": {
      "needs_background": "light"
     },
     "output_type": "display_data"
    }
   ],
   "source": [
    "sns.countplot(x='year', data=df)"
   ]
  },
  {
   "cell_type": "code",
   "execution_count": 16,
   "id": "b4b2868c",
   "metadata": {},
   "outputs": [
    {
     "data": {
      "text/html": [
       "<div>\n",
       "<style scoped>\n",
       "    .dataframe tbody tr th:only-of-type {\n",
       "        vertical-align: middle;\n",
       "    }\n",
       "\n",
       "    .dataframe tbody tr th {\n",
       "        vertical-align: top;\n",
       "    }\n",
       "\n",
       "    .dataframe thead th {\n",
       "        text-align: right;\n",
       "    }\n",
       "</style>\n",
       "<table border=\"1\" class=\"dataframe\">\n",
       "  <thead>\n",
       "    <tr style=\"text-align: right;\">\n",
       "      <th></th>\n",
       "      <th>month</th>\n",
       "      <th>year</th>\n",
       "      <th>count</th>\n",
       "    </tr>\n",
       "  </thead>\n",
       "  <tbody>\n",
       "    <tr>\n",
       "      <th>21</th>\n",
       "      <td>8</td>\n",
       "      <td>2021</td>\n",
       "      <td>74</td>\n",
       "    </tr>\n",
       "    <tr>\n",
       "      <th>12</th>\n",
       "      <td>5</td>\n",
       "      <td>2020</td>\n",
       "      <td>61</td>\n",
       "    </tr>\n",
       "    <tr>\n",
       "      <th>4</th>\n",
       "      <td>2</td>\n",
       "      <td>2021</td>\n",
       "      <td>59</td>\n",
       "    </tr>\n",
       "    <tr>\n",
       "      <th>16</th>\n",
       "      <td>7</td>\n",
       "      <td>2019</td>\n",
       "      <td>48</td>\n",
       "    </tr>\n",
       "    <tr>\n",
       "      <th>1</th>\n",
       "      <td>1</td>\n",
       "      <td>2021</td>\n",
       "      <td>36</td>\n",
       "    </tr>\n",
       "  </tbody>\n",
       "</table>\n",
       "</div>"
      ],
      "text/plain": [
       "    month  year  count\n",
       "21      8  2021     74\n",
       "12      5  2020     61\n",
       "4       2  2021     59\n",
       "16      7  2019     48\n",
       "1       1  2021     36"
      ]
     },
     "execution_count": 16,
     "metadata": {},
     "output_type": "execute_result"
    }
   ],
   "source": [
    "#connections over the year\n",
    "grouped = df.groupby(['month','year']).size().reset_index(name='count')\n",
    "grouped.sort_values(by='count',ascending=False).head()"
   ]
  },
  {
   "cell_type": "markdown",
   "id": "896092dc",
   "metadata": {},
   "source": [
    "### from the above table, it can be observed that\n",
    "1) the month with the highest connection for 2021 is 8 (Aug) with 74 connections <br>\n",
    "2) the month with the highest connection for 2020 is 5 (May) with 61 connections <br>\n",
    "3) the month with the highest connection for 2019 is 7 (Jul) with 48 connections <br>\n"
   ]
  },
  {
   "cell_type": "code",
   "execution_count": 17,
   "id": "e60d2ef4",
   "metadata": {},
   "outputs": [],
   "source": [
    "grouped['Month_date'] = grouped['month'].apply(lambda integer_month: calendar.month_abbr[integer_month]) +' ' +grouped['year'].astype(str)"
   ]
  },
  {
   "cell_type": "code",
   "execution_count": 18,
   "id": "694ddd89",
   "metadata": {},
   "outputs": [],
   "source": [
    "sub_group = grouped[['Month_date','count']]"
   ]
  },
  {
   "cell_type": "code",
   "execution_count": 19,
   "id": "fe7eac24",
   "metadata": {},
   "outputs": [],
   "source": [
    "\n",
    "sub_group['Month_date'] = pd.to_datetime(sub_group['Month_date'])"
   ]
  },
  {
   "cell_type": "code",
   "execution_count": 20,
   "id": "1dd35edb",
   "metadata": {
    "scrolled": true
   },
   "outputs": [],
   "source": [
    "fig = px.bar(sub_group,'Month_date','count',title=\"connections over the years\")"
   ]
  },
  {
   "attachments": {
    "newplot.png": {
     "image/png": "[encoded data removed]"
    }
   },
   "cell_type": "markdown",
   "id": "4d65f4ed",
   "metadata": {},
   "source": [
    "![newplot.png](attachment:newplot.png)"
   ]
  },
  {
   "cell_type": "markdown",
   "id": "86ace322",
   "metadata": {},
   "source": [
    "## Lead"
   ]
  },
  {
   "cell_type": "code",
   "execution_count": 21,
   "id": "23f16984",
   "metadata": {},
   "outputs": [
    {
     "data": {
      "text/html": [
       "<div>\n",
       "<style scoped>\n",
       "    .dataframe tbody tr th:only-of-type {\n",
       "        vertical-align: middle;\n",
       "    }\n",
       "\n",
       "    .dataframe tbody tr th {\n",
       "        vertical-align: top;\n",
       "    }\n",
       "\n",
       "    .dataframe thead th {\n",
       "        text-align: right;\n",
       "    }\n",
       "</style>\n",
       "<table border=\"1\" class=\"dataframe\">\n",
       "  <thead>\n",
       "    <tr style=\"text-align: right;\">\n",
       "      <th></th>\n",
       "      <th>Company</th>\n",
       "      <th>Position</th>\n",
       "      <th>day</th>\n",
       "      <th>month</th>\n",
       "      <th>year</th>\n",
       "    </tr>\n",
       "  </thead>\n",
       "  <tbody>\n",
       "    <tr>\n",
       "      <th>1</th>\n",
       "      <td>African Alliance Insurance</td>\n",
       "      <td>GM/Lead, Business Development</td>\n",
       "      <td>11</td>\n",
       "      <td>4</td>\n",
       "      <td>2022</td>\n",
       "    </tr>\n",
       "    <tr>\n",
       "      <th>2</th>\n",
       "      <td>Chevron</td>\n",
       "      <td>Lead Data Engineer</td>\n",
       "      <td>8</td>\n",
       "      <td>4</td>\n",
       "      <td>2022</td>\n",
       "    </tr>\n",
       "    <tr>\n",
       "      <th>4</th>\n",
       "      <td>Wragby Business Solutions &amp; Technologies Limited</td>\n",
       "      <td>Data Science Lead</td>\n",
       "      <td>6</td>\n",
       "      <td>4</td>\n",
       "      <td>2022</td>\n",
       "    </tr>\n",
       "    <tr>\n",
       "      <th>8</th>\n",
       "      <td>Bundle Africa</td>\n",
       "      <td>Lead Data Engineer &amp; Analyst</td>\n",
       "      <td>4</td>\n",
       "      <td>4</td>\n",
       "      <td>2022</td>\n",
       "    </tr>\n",
       "    <tr>\n",
       "      <th>11</th>\n",
       "      <td>Accenture</td>\n",
       "      <td>Data Engineer Team Lead / Tech Lead</td>\n",
       "      <td>4</td>\n",
       "      <td>4</td>\n",
       "      <td>2022</td>\n",
       "    </tr>\n",
       "  </tbody>\n",
       "</table>\n",
       "</div>"
      ],
      "text/plain": [
       "                                             Company  \\\n",
       "1                         African Alliance Insurance   \n",
       "2                                            Chevron   \n",
       "4   Wragby Business Solutions & Technologies Limited   \n",
       "8                                      Bundle Africa   \n",
       "11                                         Accenture   \n",
       "\n",
       "                               Position  day  month  year  \n",
       "1         GM/Lead, Business Development   11      4  2022  \n",
       "2                    Lead Data Engineer    8      4  2022  \n",
       "4                     Data Science Lead    6      4  2022  \n",
       "8          Lead Data Engineer & Analyst    4      4  2022  \n",
       "11  Data Engineer Team Lead / Tech Lead    4      4  2022  "
      ]
     },
     "execution_count": 21,
     "metadata": {},
     "output_type": "execute_result"
    }
   ],
   "source": [
    "#number of people with lead in their position/Job title\n",
    "\n",
    "lead = df.loc[df['Position'].str.contains(\"Lead\", case=False,na=False)]\n",
    "lead.head()"
   ]
  },
  {
   "cell_type": "code",
   "execution_count": 22,
   "id": "e9bbfae1",
   "metadata": {},
   "outputs": [
    {
     "data": {
      "text/plain": [
       "43"
      ]
     },
     "execution_count": 22,
     "metadata": {},
     "output_type": "execute_result"
    }
   ],
   "source": [
    "#Number of connections with Lead in their Job Title/Position\n",
    "lead.shape[0]"
   ]
  },
  {
   "cell_type": "code",
   "execution_count": 23,
   "id": "8fe1aef8",
   "metadata": {},
   "outputs": [
    {
     "data": {
      "text/html": [
       "<div>\n",
       "<style scoped>\n",
       "    .dataframe tbody tr th:only-of-type {\n",
       "        vertical-align: middle;\n",
       "    }\n",
       "\n",
       "    .dataframe tbody tr th {\n",
       "        vertical-align: top;\n",
       "    }\n",
       "\n",
       "    .dataframe thead th {\n",
       "        text-align: right;\n",
       "    }\n",
       "</style>\n",
       "<table border=\"1\" class=\"dataframe\">\n",
       "  <thead>\n",
       "    <tr style=\"text-align: right;\">\n",
       "      <th></th>\n",
       "      <th>Company</th>\n",
       "      <th>Position</th>\n",
       "      <th>day</th>\n",
       "      <th>month</th>\n",
       "      <th>year</th>\n",
       "    </tr>\n",
       "  </thead>\n",
       "  <tbody>\n",
       "    <tr>\n",
       "      <th>39</th>\n",
       "      <td>The Eternal View Hub</td>\n",
       "      <td>Co-Founder</td>\n",
       "      <td>21</td>\n",
       "      <td>2</td>\n",
       "      <td>2022</td>\n",
       "    </tr>\n",
       "    <tr>\n",
       "      <th>82</th>\n",
       "      <td>Crowdpoint</td>\n",
       "      <td>Cofounder &amp; CEO</td>\n",
       "      <td>13</td>\n",
       "      <td>10</td>\n",
       "      <td>2021</td>\n",
       "    </tr>\n",
       "    <tr>\n",
       "      <th>88</th>\n",
       "      <td>Dynamixity</td>\n",
       "      <td>Co-Founder</td>\n",
       "      <td>29</td>\n",
       "      <td>9</td>\n",
       "      <td>2021</td>\n",
       "    </tr>\n",
       "    <tr>\n",
       "      <th>89</th>\n",
       "      <td>Jacob's Farm</td>\n",
       "      <td>CEO/FOUNDER</td>\n",
       "      <td>29</td>\n",
       "      <td>9</td>\n",
       "      <td>2021</td>\n",
       "    </tr>\n",
       "    <tr>\n",
       "      <th>103</th>\n",
       "      <td>JAIDSON TECH</td>\n",
       "      <td>Founder</td>\n",
       "      <td>27</td>\n",
       "      <td>8</td>\n",
       "      <td>2021</td>\n",
       "    </tr>\n",
       "  </tbody>\n",
       "</table>\n",
       "</div>"
      ],
      "text/plain": [
       "                  Company         Position  day  month  year\n",
       "39   The Eternal View Hub       Co-Founder   21      2  2022\n",
       "82             Crowdpoint  Cofounder & CEO   13     10  2021\n",
       "88             Dynamixity       Co-Founder   29      9  2021\n",
       "89           Jacob's Farm     CEO/FOUNDER    29      9  2021\n",
       "103          JAIDSON TECH          Founder   27      8  2021"
      ]
     },
     "execution_count": 23,
     "metadata": {},
     "output_type": "execute_result"
    }
   ],
   "source": [
    "founder = df.loc[df['Position'].str.contains(\"Founder\", case=False,na=False)]\n",
    "founder.head()"
   ]
  },
  {
   "cell_type": "code",
   "execution_count": 24,
   "id": "a95f6176",
   "metadata": {},
   "outputs": [
    {
     "data": {
      "text/plain": [
       "25"
      ]
     },
     "execution_count": 24,
     "metadata": {},
     "output_type": "execute_result"
    }
   ],
   "source": [
    "#Number of connections with founder or co founder in their Job Title/Position\n",
    "founder.shape[0]"
   ]
  },
  {
   "cell_type": "code",
   "execution_count": null,
   "id": "238266af",
   "metadata": {},
   "outputs": [],
   "source": []
  },
  {
   "cell_type": "code",
   "execution_count": null,
   "id": "65ad45e5",
   "metadata": {},
   "outputs": [],
   "source": []
  }
 ],
 "metadata": {
  "kernelspec": {
   "display_name": "Python 3 (ipykernel)",
   "language": "python",
   "name": "python3"
  },
  "language_info": {
   "codemirror_mode": {
    "name": "ipython",
    "version": 3
   },
   "file_extension": ".py",
   "mimetype": "text/x-python",
   "name": "python",
   "nbconvert_exporter": "python",
   "pygments_lexer": "ipython3",
   "version": "3.9.4"
  }
 },
 "nbformat": 4,
 "nbformat_minor": 5
}
